{
 "cells": [
  {
   "cell_type": "code",
   "execution_count": null,
   "id": "daa18196",
   "metadata": {},
   "outputs": [],
   "source": [
    "import cv2  # cv2 is a function to read video\n",
    "import numpy as np\n",
    "from keras.models import load_model\n",
    "#model = load_model(\"F:\\pranjal\\knowledge\\data analytics\\R programing\\conducting classes\\PythonModel\\my_mask_NoMask_model.h5\")\n",
    "model=load_model('mask_nomask.h5')\n",
    "\n",
    "results={0:'Mask  found',1:'Mask not found '}\n",
    "GR_dict={0:(0,255,255),1:(0,0,255)}       ##color(B,G,R)\n",
    "\n",
    "rect_size = 6\n",
    "cap = cv2.VideoCapture(0)\n",
    "\n",
    "\n",
    "haarcascade = cv2.CascadeClassifier(r\"D:\\Haarcascade\\haarcascade_frontalface_alt.xml\")#cascade fun is trained from a lot of positive and negative images\n",
    "while True:\n",
    "    (rval, im) = cap.read()\n",
    "    im=cv2.flip(im,1,1)                    ## we are doing flip to show image as it is.   \n",
    "\n",
    "    rerect_size  = cv2.resize(im, (im.shape[1] // rect_size, im.shape[0] // rect_size))\n",
    "    faces = haarcascade.detectMultiScale(rerect_size)\n",
    "    for f in faces:\n",
    "        (x, y, w, h) = [v * rect_size for v in f]\n",
    "       \n",
    "    face_img = im[y:y+h, x:x+w]\n",
    "    rerect_size=cv2.resize(face_img,(200,200))\n",
    "    normalized=rerect_size/255.0\n",
    "    reshaped=np.reshape(normalized,(1,200,200,3))\n",
    "    reshaped = np.vstack([reshaped])\n",
    "    result=model.predict(reshaped)\n",
    "\n",
    "       \n",
    "    label=np.argmax(result,axis=1)[0]\n",
    "     \n",
    "    cv2.rectangle(im,(x,y),(x+w,y+h),GR_dict[label],2)\n",
    "    cv2.rectangle(im,(x,y-40),(x+w,y),GR_dict[label],-1)\n",
    "    cv2.putText(im, results[label], (x, y-10),cv2.FONT_HERSHEY_SIMPLEX,0.8,(255,0,0),2)\n",
    "\n",
    "    cv2.imshow('Liv Camera',   im)            ## it gives name as live camera\n",
    "    key = cv2.waitKey(10)\n",
    "   \n",
    "    if key == 27: # use the escape key\n",
    "        break\n",
    "\n",
    "cap.release()\n",
    "\n",
    "cv2.destroyAllWindows()"
   ]
  },
  {
   "cell_type": "code",
   "execution_count": null,
   "id": "9a9a0978",
   "metadata": {},
   "outputs": [],
   "source": []
  }
 ],
 "metadata": {
  "kernelspec": {
   "display_name": "Python 3",
   "language": "python",
   "name": "python3"
  },
  "language_info": {
   "codemirror_mode": {
    "name": "ipython",
    "version": 3
   },
   "file_extension": ".py",
   "mimetype": "text/x-python",
   "name": "python",
   "nbconvert_exporter": "python",
   "pygments_lexer": "ipython3",
   "version": "3.8.8"
  }
 },
 "nbformat": 4,
 "nbformat_minor": 5
}
